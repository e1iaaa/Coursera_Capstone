{
    "cells": [
        {
            "cell_type": "code",
            "execution_count": null,
            "metadata": {},
            "outputs": [],
            "source": "import numpy as np # library to handle data in a vectorized manner\nimport pandas as pd # library for data analsysis\nimport json # library to handle JSON files\n\nfrom geopy.geocoders import Nominatim # convert an address into latitude and longitude values\n\nimport requests # library to handle requests\nfrom pandas.io.json import json_normalize # tranform JSON file into a pandas dataframe\n\n# Matplotlib and associated plotting modules\nimport matplotlib.cm as cm\nimport matplotlib.colors as colors\nimport pandas as pd\nimport matplotlib.pyplot as plt\n\nprint('Imported.')"
        },
        {
            "cell_type": "code",
            "execution_count": null,
            "metadata": {},
            "outputs": [],
            "source": "pip install lxml html5lib beautifulsoup4"
        },
        {
            "cell_type": "code",
            "execution_count": null,
            "metadata": {},
            "outputs": [],
            "source": "# Define Foursquare Credentials and Version\nCLIENT_ID = 'V1JP0OQNXOSW0TMHAKMEP33U1UAWHCO2I3LZQLTI1MEA1D2Y' # your Foursquare ID\nCLIENT_SECRET = 'Y2YU3WT2HRVMRR5H2RPXM3BOW5XMYDN3EIAO2A0MMHW0SEDN' # your Foursquare Secret\nVERSION = '20180605' # Foursquare API version"
        },
        {
            "cell_type": "code",
            "execution_count": null,
            "metadata": {},
            "outputs": [],
            "source": "#Download Bangkok, Thailand list of Districts \nurl = 'https://en.wikipedia.org/wiki/List_of_districts_of_Bangkok'\ndfs = pd.read_html(url)\nprint(dfs[0])"
        },
        {
            "cell_type": "code",
            "execution_count": null,
            "metadata": {},
            "outputs": [],
            "source": "#Transform to Dataframe\ndf = dfs[0]"
        },
        {
            "cell_type": "code",
            "execution_count": null,
            "metadata": {},
            "outputs": [],
            "source": "#Fix spelling of the columns\ndf = df.rename(columns={\"Popu-lation\": \"Population\"})\ndf = df.rename(columns={\"District(Khet)\": \"District\"})\ndf = df.rename(columns={\"Post-code\": \"Postcode\"})"
        },
        {
            "cell_type": "code",
            "execution_count": null,
            "metadata": {},
            "outputs": [],
            "source": "#Clean table \nBKK_districts = df[['District','Postcode','Population','Latitude', 'Longitude']]"
        },
        {
            "cell_type": "code",
            "execution_count": null,
            "metadata": {},
            "outputs": [],
            "source": "#check if everything is ok\nBKK_districts.head()"
        },
        {
            "cell_type": "code",
            "execution_count": null,
            "metadata": {},
            "outputs": [],
            "source": "#create an istrogram \nclr = \"blue\"\nBKK_districts.groupby('District')['Population'].sum().plot.bar(figsize=(10,5), color=clr)\nplt.title('Population  per District', fontsize = 20)\nplt.xlabel('District', fontsize = 15)\nplt.ylabel('Population',fontsize = 15)\nplt.legend()\nplt.show()"
        },
        {
            "cell_type": "code",
            "execution_count": null,
            "metadata": {},
            "outputs": [],
            "source": "#extract the first district to be use in a test \ndf.loc[0, 'District']"
        },
        {
            "cell_type": "code",
            "execution_count": null,
            "metadata": {},
            "outputs": [],
            "source": "#test if you can extract Lat and Long\nneighborhood_latitude = df.loc[0, 'Latitude'] # neighborhood latitude value\nneighborhood_longitude = df.loc[0, 'Longitude'] # neighborhood longitude value\n\nneighborhood_name = df.loc[0, 'District'] # neighborhood name\n\nprint('Latitude and longitude values of {} are {}, {}.'.format(neighborhood_name, \n                                                               neighborhood_latitude, \n                                                               neighborhood_longitude))"
        },
        {
            "cell_type": "code",
            "execution_count": null,
            "metadata": {},
            "outputs": [],
            "source": "#extract the data from Foursquare \nLIMIT = 500\n\nradius = 1000\n\nurl = 'https://api.foursquare.com/v2/venues/explore?&client_id={}&client_secret={}&v={}&ll={},{}&radius={}&limit={}'.format(\n    CLIENT_ID, \n    CLIENT_SECRET, \n    VERSION, \n    neighborhood_latitude, \n    neighborhood_longitude, \n    radius, \n    LIMIT)\nurl # display URL"
        },
        {
            "cell_type": "code",
            "execution_count": null,
            "metadata": {},
            "outputs": [],
            "source": "#define the main functions used later\n\ndef geo_location(address):\n    # get geo location of address\n    geolocator = Nominatim(user_agent=\"foursquare_agent\")\n    location = geolocator.geocode(address)\n    latitude = location.latitude\n    longitude = location.longitude\n    return latitude,longitude\n\n\ndef get_venues(lat,lng):\n    #set variables\n    radius=1000\n    LIMIT=500\n    #url to fetch data from foursquare api\n    url = 'https://api.foursquare.com/v2/venues/explore?&client_id={}&client_secret={}&v={}&ll={},{}&radius={}&limit={}'.format(\n            CLIENT_ID, \n            CLIENT_SECRET, \n            VERSION, \n            lat, \n            lng, \n            radius, \n            LIMIT)\n    # get all the data\n    results = requests.get(url).json()\n    venue_data=results['response']['groups'][0]['items']\n    venue_details=[]\n    for row in venue_data:\n        try:\n            venue_id=row['venue']['id']\n            venue_name=row['venue']['name']\n            venue_category=row['venue']['categories'][0]['name']\n            venue_details.append([venue_id,venue_name,venue_category])\n        except KeyError:\n            pass\n    column_names=['ID','Name','Category']\n    df = pd.DataFrame(venue_details,columns=column_names)\n    return df\n\n\ndef get_venue_details(venue_id):\n    #url to fetch data from foursquare api\n    url = 'https://api.foursquare.com/v2/venues/{}?&client_id={}&client_secret={}&v={}'.format(\n            venue_id,\n            CLIENT_ID, \n            CLIENT_SECRET, \n            VERSION)\n    # get all the data\n    results = requests.get(url).json()\n    print(results)\n    venue_data=results['response']['venue']\n    venue_details=[]\n    try:\n        venue_id=venue_data['id']\n        venue_name=venue_data['name']\n        venue_likes=venue_data['likes']['count']\n        venue_rating=venue_data['rating']\n        venue_tips=venue_data['tips']['count']\n        venue_details.append([venue_id,venue_name,venue_likes,venue_rating,venue_tips])\n    except KeyError:\n        pass\n    column_names=['ID','Name','Likes','Rating','Tips']\n    df = pd.DataFrame(venue_details,columns=column_names)\n    return df"
        },
        {
            "cell_type": "code",
            "execution_count": null,
            "metadata": {},
            "outputs": [],
            "source": "# prepare neighborhood list that contains Italian restaurants\n\ncolumn_names=['District', 'ID','Name']\nita_rest_bkk=pd.DataFrame(columns=column_names)\ncount=1\nfor row in BKK_districts.values.tolist():\n    District, Postcode, Population, Latitude, Longitude=row\n    venues = get_venues(Latitude,Longitude)\n    italian_restaurants=venues[venues['Category']=='Italian Restaurant']   \n    print('(',count,'/',len(BKK_districts),')','Italian Restaurant in '+District+':'+str(len(italian_restaurants)))\n    print(row)\n    for resturant_detail in italian_restaurants.values.tolist():\n        id, name , category=resturant_detail\n        ita_rest_bkk = ita_rest_bkk.append({'District': District,\n                                                 'ID': id,\n                                                'Name' : name\n                                               }, ignore_index=True)\n    count+=1\n"
        },
        {
            "cell_type": "code",
            "execution_count": null,
            "metadata": {},
            "outputs": [],
            "source": "#make a back-up in .csv file \nita_rest_bkk.to_csv('ita_rest_bkk_tocsv1.csv')"
        },
        {
            "cell_type": "code",
            "execution_count": null,
            "metadata": {},
            "outputs": [],
            "source": "#check data\nita_bkk = pd.read_csv('ita_rest_bkk_tocsv1.csv')\nita_rest_bkk.tail()"
        },
        {
            "cell_type": "code",
            "execution_count": null,
            "metadata": {},
            "outputs": [],
            "source": "#check the data size\nita_rest_bkk.shape"
        },
        {
            "cell_type": "code",
            "execution_count": null,
            "metadata": {},
            "outputs": [],
            "source": "#Let's Visualize the distribution of the Italian Restaurants\nita_rest_bkk.groupby('District')['ID'].count().plot.bar(figsize=(10,5), color=clr)\nplt.title('Italian Restaurants per District', fontsize = 20)\nplt.xlabel('District', fontsize = 15)\nplt.ylabel('Italian Restaurants',fontsize = 15)\nplt.legend()\nplt.show()"
        },
        {
            "cell_type": "code",
            "execution_count": null,
            "metadata": {},
            "outputs": [],
            "source": "column_names=['District', 'ID','Name','Likes','Rating','Tips']\nita_rest_stats_bkk=pd.DataFrame(columns=column_names)\ncount=1\nfor row in ita_rest_bkk.values.tolist():\n    Disrict, ID, Name=row\n    try:\n        venue_details=get_venue_details(ID)\n        print(venue_details)\n        id,name,likes,rating,tips=venue_details.values.tolist()[0]\n    except IndexError:\n        print('No data available for id=',ID)\n        # we will assign 0 value for these resturants as they may have been \n        #recently opened or details does not exist in FourSquare Database\n        id,name,likes,rating,tips=[0]*5\n    print('(',count,'/',len(ita_rest_bkk),')','processed')\n    ita_rest_stats_bkk = ita_rest_stats_bkk.append({'Disrict': Disrict,\n                                                'ID': id,\n                                                'Name' : name,\n                                                'Likes' : likes,\n                                                'Rating' : rating,\n                                                'Tips' : tips\n                                               }, ignore_index=True)\n    count+=1\nita_rest_stats_bkk.head()"
        },
        {
            "cell_type": "code",
            "execution_count": null,
            "metadata": {},
            "outputs": [],
            "source": "#make a back-up in .csv file \nita_rest_stats_bkk.to_csv('ita_rest_stats_bkk_csv.csv')"
        },
        {
            "cell_type": "code",
            "execution_count": null,
            "metadata": {},
            "outputs": [],
            "source": "#check the data format\nita_rest_stats_bkk.shape"
        },
        {
            "cell_type": "code",
            "execution_count": null,
            "metadata": {},
            "outputs": [],
            "source": "#trasform data format\nita_rest_stats_bkk['Likes'] = ita_rest_stats_bkk['Likes'].astype('float64')\nita_rest_stats_bkk['Tips'] = ita_rest_stats_bkk['Tips'].astype('float64')\nita_rest_stats_bkk.info()"
        },
        {
            "cell_type": "code",
            "execution_count": null,
            "metadata": {},
            "outputs": [],
            "source": "# Resturant with maximum Likes\nita_rest_stats_bkk.iloc[ita_rest_stats_bkk['Likes'].idxmax()]"
        },
        {
            "cell_type": "code",
            "execution_count": null,
            "metadata": {},
            "outputs": [],
            "source": "# Resturant with maximum Ratings\nita_rest_stats_bkk.iloc[ita_rest_stats_bkk['Rating'].idxmax()]"
        },
        {
            "cell_type": "code",
            "execution_count": null,
            "metadata": {},
            "outputs": [],
            "source": "#create a table groupping the district \nBKK_districts_stats=ita_rest_stats_bkk.groupby('Disrict',as_index=False).mean()[['Disrict','Rating']]\nBKK_districts_stats.columns=['District','Average Rating']\nBKK_districts_stats.sort_values(['Average Rating'],ascending=False).head(50)"
        },
        {
            "cell_type": "code",
            "execution_count": null,
            "metadata": {},
            "outputs": [],
            "source": "#create a table groupping the district \nBKK_districts_stats_L=ita_rest_stats_bkk.groupby('Disrict',as_index=False).mean()[['Disrict','Likes']]\nBKK_districts_stats_L.columns=['District','Average Likes']\nBKK_districts_stats_L.sort_values(['Average Likes'],ascending=False).head(50)"
        },
        {
            "cell_type": "code",
            "execution_count": null,
            "metadata": {},
            "outputs": [],
            "source": "#Let's Visualize the distribution of the Rating\nBKK_districts_stats.groupby('District')['Average Rating'].mean().plot.bar(figsize=(10,5), color=clr)\nplt.title('Average Rating per District', fontsize = 20)\nplt.xlabel('District', fontsize = 15)\nplt.ylabel('Average Rating',fontsize = 15)\nplt.legend()\nplt.show()\n"
        },
        {
            "cell_type": "code",
            "execution_count": null,
            "metadata": {},
            "outputs": [],
            "source": "#Let's Visualize the distribution of the Likes\nBKK_districts_stats_L.groupby('District')['Average Likes'].mean().plot.bar(figsize=(10,5), color=clr)\nplt.title('Average Likes per District', fontsize = 20)\nplt.xlabel('District', fontsize = 15)\nplt.ylabel('Average Likes',fontsize = 15)\nplt.legend()\nplt.show()\n"
        }
    ],
    "metadata": {
        "kernelspec": {
            "display_name": "Python 3.7",
            "language": "python",
            "name": "python3"
        },
        "language_info": {
            "codemirror_mode": {
                "name": "ipython",
                "version": 3
            },
            "file_extension": ".py",
            "mimetype": "text/x-python",
            "name": "python",
            "nbconvert_exporter": "python",
            "pygments_lexer": "ipython3",
            "version": "3.7.9"
        }
    },
    "nbformat": 4,
    "nbformat_minor": 1
}